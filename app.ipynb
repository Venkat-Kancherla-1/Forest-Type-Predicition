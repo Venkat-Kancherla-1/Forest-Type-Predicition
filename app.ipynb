{
 "cells": [
  {
   "cell_type": "code",
   "execution_count": 1,
   "metadata": {},
   "outputs": [
    {
     "name": "stdout",
     "output_type": "stream",
     "text": [
      "Requirement already satisfied: flask in c:\\users\\kanch\\appdata\\local\\programs\\python\\python311\\lib\\site-packages (3.0.3)\n",
      "Requirement already satisfied: Werkzeug>=3.0.0 in c:\\users\\kanch\\appdata\\local\\programs\\python\\python311\\lib\\site-packages (from flask) (3.0.2)\n",
      "Requirement already satisfied: Jinja2>=3.1.2 in c:\\users\\kanch\\appdata\\local\\programs\\python\\python311\\lib\\site-packages (from flask) (3.1.3)\n",
      "Requirement already satisfied: itsdangerous>=2.1.2 in c:\\users\\kanch\\appdata\\local\\programs\\python\\python311\\lib\\site-packages (from flask) (2.2.0)\n",
      "Requirement already satisfied: click>=8.1.3 in c:\\users\\kanch\\appdata\\local\\programs\\python\\python311\\lib\\site-packages (from flask) (8.1.7)\n",
      "Requirement already satisfied: blinker>=1.6.2 in c:\\users\\kanch\\appdata\\local\\programs\\python\\python311\\lib\\site-packages (from flask) (1.7.0)\n",
      "Requirement already satisfied: colorama in c:\\users\\kanch\\appdata\\local\\programs\\python\\python311\\lib\\site-packages (from click>=8.1.3->flask) (0.4.6)\n",
      "Requirement already satisfied: MarkupSafe>=2.0 in c:\\users\\kanch\\appdata\\local\\programs\\python\\python311\\lib\\site-packages (from Jinja2>=3.1.2->flask) (2.1.5)\n"
     ]
    }
   ],
   "source": [
    "!pip install flask"
   ]
  },
  {
   "cell_type": "code",
   "execution_count": 3,
   "metadata": {},
   "outputs": [
    {
     "name": "stdout",
     "output_type": "stream",
     "text": [
      " * Serving Flask app '__main__'\n",
      " * Debug mode: off\n"
     ]
    },
    {
     "name": "stderr",
     "output_type": "stream",
     "text": [
      "WARNING: This is a development server. Do not use it in a production deployment. Use a production WSGI server instead.\n",
      " * Running on http://127.0.0.1:5000\n",
      "Press CTRL+C to quit\n",
      "127.0.0.1 - - [10/Jun/2024 15:41:33] \"GET / HTTP/1.1\" 200 -\n",
      "127.0.0.1 - - [10/Jun/2024 15:41:33] \"GET /styles.css HTTP/1.1\" 404 -\n"
     ]
    }
   ],
   "source": [
    "# pip install flask\n",
    "from flask import Flask, render_template, request\n",
    "import pickle\n",
    "import pandas as pd\n",
    "import numpy as np\n",
    "from sklearn.preprocessing import StandardScaler\n",
    "\n",
    "\n",
    "# Loading the mlr model\n",
    "model = pickle.load(open('model.pkl', 'rb'))\n",
    "\n",
    "# Flask is used for creating your application\n",
    "# render template is used for rendering the HTML page\n",
    "app = Flask(__name__)  # your application\n",
    "\n",
    "\n",
    "@app.route('/')  # default route\n",
    "def home():\n",
    "    return render_template('index.html')  # rendering your home page.\n",
    "\n",
    "\n",
    "@app.route('/pred', methods=['POST'])  # prediction route\n",
    "def predict1():\n",
    "    '''\n",
    "    For rendering results on HTML \n",
    "    '''\n",
    "    \n",
    "    Elevation = request.form.get('elevation')\n",
    "    Aspect = request.form.get('aspect')\n",
    "    Slope = int(request.form.get('slope'))\n",
    "    Horizontal_Distance_To_Hydrology = int(request.form.get('hordt-hyd'))\n",
    "    Vertical_Distance_To_Hydrology = int(request.form.get('verdt-hyd'))\n",
    "    Horizontal_Distance_To_Roadways = int(request.form.get('hordt-road'))\n",
    "    Hillshade_9am = int(request.form.get('hillshade9'))\n",
    "    Hillshade_Noon = int(request.form.get('hillshade12'))\n",
    "    Hillshade_3pm = int(request.form.get('hillshade3'))\n",
    "    Horizontal_Distance_To_Fire_Points = int(request.form.get('hordt-fire'))\n",
    "    soil_type = request.form.get('soilType')\n",
    "\n",
    "    # Create a DataFrame from the form data\n",
    "    scaler = StandardScaler()\n",
    "    numerical_features = [Elevation, Aspect, Slope, Horizontal_Distance_To_Hydrology, Vertical_Distance_To_Hydrology, Horizontal_Distance_To_Roadways, Hillshade_9am, Hillshade_Noon,\n",
    "                              Hillshade_3pm, Horizontal_Distance_To_Fire_Points]\n",
    "    numerical_features_scaled = scaler.fit_transform([numerical_features])\n",
    "\n",
    "        # Convert soil_type to a dataframe with 40 columns\n",
    "    soil_type_list = list(soil_type)\n",
    "    soil_type_df = pd.DataFrame([soil_type_list], columns=[f'Soil_Type{i}' for i in range(1, 41)])\n",
    "\n",
    "        # Concatenate the numerical features and soil_type dataframes\n",
    "    input_df = pd.DataFrame(np.concatenate([numerical_features_scaled, soil_type_df], axis=1))\n",
    "\n",
    "        # Make prediction using the pre-trained model\n",
    "    prediction = model.predict(input_df)\n",
    "    print(prediction)\n",
    "\n",
    "    outputs = [\"Spruce/Fir\",\"Lodgepole Pine\",\"Ponderosa Pine\",\"Cottonwood/Willow\",\"Aspen\",\"Douglas-fir\",\"Krummholz\"]\n",
    "\n",
    "    return render_template(\"index.html\", result=\"The predicted cover is \" + outputs[prediction[0]-1]+\"!\")\n",
    "\n",
    "\n",
    "# running your application\n",
    "if __name__ == \"__main__\":\n",
    "    app.run()"
   ]
  }
 ],
 "metadata": {
  "kernelspec": {
   "display_name": "Python 3",
   "language": "python",
   "name": "python3"
  },
  "language_info": {
   "codemirror_mode": {
    "name": "ipython",
    "version": 3
   },
   "file_extension": ".py",
   "mimetype": "text/x-python",
   "name": "python",
   "nbconvert_exporter": "python",
   "pygments_lexer": "ipython3",
   "version": "3.11.4"
  }
 },
 "nbformat": 4,
 "nbformat_minor": 2
}
